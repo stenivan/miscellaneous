{
 "cells": [
  {
   "cell_type": "markdown",
   "metadata": {},
   "source": [
    "### What are For Loops?"
   ]
  },
  {
   "cell_type": "markdown",
   "metadata": {},
   "source": [
    "In the context of most data science work, Python for loops are used to loop through an iterable object (like a list, tuple, set, etc.) and perform the same action for each entry. For example, a for loop would allow us to iterate through a list, performing the same action on each item in the list."
   ]
  },
  {
   "cell_type": "code",
   "execution_count": 1,
   "metadata": {},
   "outputs": [],
   "source": [
    "our_list = ['Lily', 'Brad', 'Fatimah', 'Zining']"
   ]
  },
  {
   "cell_type": "code",
   "execution_count": 2,
   "metadata": {},
   "outputs": [
    {
     "name": "stdout",
     "output_type": "stream",
     "text": [
      "Lily\n",
      "Brad\n",
      "Fatimah\n",
      "Zining\n"
     ]
    }
   ],
   "source": [
    "for name in our_list:\n",
    "    print(name)"
   ]
  },
  {
   "cell_type": "code",
   "execution_count": 3,
   "metadata": {},
   "outputs": [
    {
     "name": "stdout",
     "output_type": "stream",
     "text": [
      "Lily\n",
      "Brad\n",
      "Fatimah\n",
      "Zining\n"
     ]
    }
   ],
   "source": [
    "# It's the same way even when we change the 'name'\n",
    "for x in our_list:\n",
    "    print(x)"
   ]
  },
  {
   "cell_type": "code",
   "execution_count": 4,
   "metadata": {},
   "outputs": [
    {
     "name": "stdout",
     "output_type": "stream",
     "text": [
      "L\n",
      "i\n",
      "l\n",
      "y\n"
     ]
    }
   ],
   "source": [
    "for letter in 'Lily':\n",
    "    print(letter)"
   ]
  },
  {
   "cell_type": "markdown",
   "metadata": {},
   "source": [
    "### Using For Loops with Lists of Lists"
   ]
  },
  {
   "cell_type": "code",
   "execution_count": 6,
   "metadata": {},
   "outputs": [],
   "source": [
    "ev_data = [['vehicle', 'range', 'price'], \n",
    "           ['Tesla Model 3 LR', '310', '49900'], \n",
    "           ['Hyundai Ioniq EV', '124', '30315'], \n",
    "           ['Chevy Bolt', '238', '36620']]"
   ]
  },
  {
   "cell_type": "code",
   "execution_count": 7,
   "metadata": {},
   "outputs": [
    {
     "name": "stdout",
     "output_type": "stream",
     "text": [
      "[['vehicle', 'range', 'price'], ['Tesla Model 3 LR', 310, '49900'], ['Hyundai Ioniq EV', 124, '30315'], ['Chevy Bolt', 238, '36620']]\n"
     ]
    }
   ],
   "source": [
    "for row in ev_data[1:]: # Loop through each row in ev_data starting with row 2 (index 1)\n",
    "    ev_range = row[1] # Each car's range is found in column 2 (index 1)\n",
    "    ev_range = int(ev_range) # Convert each range number from a string to an integer\n",
    "    row[1] = ev_range # Assign range, which is now an integer, back to index 1 in each row\n",
    "print(ev_data)"
   ]
  },
  {
   "cell_type": "code",
   "execution_count": 8,
   "metadata": {},
   "outputs": [
    {
     "name": "stdout",
     "output_type": "stream",
     "text": [
      "224.0\n"
     ]
    }
   ],
   "source": [
    "total_range = 0 # Create a variable to store the total range number\n",
    "\n",
    "for row in ev_data[1:]: # Loop through each row in ev_data starting with row 2 (index 1)\n",
    "    ev_range = row[1] # Each car's range is found in column 2 (index 1)\n",
    "    total_range += ev_range # Add this number to the number stored in total_range\n",
    "    \n",
    "number_of_cars = len(ev_data[1:]) # Calculate the length of our list, minus the header row\n",
    "print(total_range / number_of_cars) # Print the average range\n",
    "    "
   ]
  },
  {
   "cell_type": "code",
   "execution_count": null,
   "metadata": {},
   "outputs": [],
   "source": []
  },
  {
   "cell_type": "code",
   "execution_count": null,
   "metadata": {},
   "outputs": [],
   "source": []
  },
  {
   "cell_type": "code",
   "execution_count": null,
   "metadata": {},
   "outputs": [],
   "source": []
  },
  {
   "cell_type": "code",
   "execution_count": null,
   "metadata": {},
   "outputs": [],
   "source": []
  },
  {
   "cell_type": "code",
   "execution_count": null,
   "metadata": {},
   "outputs": [],
   "source": []
  },
  {
   "cell_type": "code",
   "execution_count": null,
   "metadata": {},
   "outputs": [],
   "source": []
  },
  {
   "cell_type": "code",
   "execution_count": null,
   "metadata": {},
   "outputs": [],
   "source": []
  },
  {
   "cell_type": "code",
   "execution_count": null,
   "metadata": {},
   "outputs": [],
   "source": []
  },
  {
   "cell_type": "code",
   "execution_count": null,
   "metadata": {},
   "outputs": [],
   "source": []
  }
 ],
 "metadata": {
  "kernelspec": {
   "display_name": "Python 3",
   "language": "python",
   "name": "python3"
  },
  "language_info": {
   "codemirror_mode": {
    "name": "ipython",
    "version": 3
   },
   "file_extension": ".py",
   "mimetype": "text/x-python",
   "name": "python",
   "nbconvert_exporter": "python",
   "pygments_lexer": "ipython3",
   "version": "3.7.3"
  }
 },
 "nbformat": 4,
 "nbformat_minor": 2
}

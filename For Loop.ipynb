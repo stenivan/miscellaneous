{
 "cells": [
  {
   "cell_type": "markdown",
   "metadata": {},
   "source": [
    "### What are For Loops?"
   ]
  },
  {
   "cell_type": "markdown",
   "metadata": {},
   "source": [
    "In the context of most data science work, Python for loops are used to loop through an iterable object (like a list, tuple, set, etc.) and perform the same action for each entry. For example, a for loop would allow us to iterate through a list, performing the same action on each item in the list."
   ]
  },
  {
   "cell_type": "code",
   "execution_count": 15,
   "metadata": {},
   "outputs": [],
   "source": [
    "our_list = ['Lily', 'Brad', 'Fatimah', 'Zining']"
   ]
  },
  {
   "cell_type": "code",
   "execution_count": 16,
   "metadata": {},
   "outputs": [
    {
     "name": "stdout",
     "output_type": "stream",
     "text": [
      "Lily\n",
      "Brad\n",
      "Fatimah\n",
      "Zining\n"
     ]
    }
   ],
   "source": [
    "for name in our_list:\n",
    "    print(name)"
   ]
  },
  {
   "cell_type": "code",
   "execution_count": 17,
   "metadata": {},
   "outputs": [
    {
     "name": "stdout",
     "output_type": "stream",
     "text": [
      "Lily\n",
      "Brad\n",
      "Fatimah\n",
      "Zining\n"
     ]
    }
   ],
   "source": [
    "# It's the same way even when we change the 'name'\n",
    "for x in our_list:\n",
    "    print(x)"
   ]
  },
  {
   "cell_type": "code",
   "execution_count": 18,
   "metadata": {},
   "outputs": [
    {
     "name": "stdout",
     "output_type": "stream",
     "text": [
      "L\n",
      "i\n",
      "l\n",
      "y\n"
     ]
    }
   ],
   "source": [
    "for letter in 'Lily':\n",
    "    print(letter)"
   ]
  },
  {
   "cell_type": "markdown",
   "metadata": {},
   "source": [
    "### Using For Loops with Lists of Lists"
   ]
  },
  {
   "cell_type": "code",
   "execution_count": 19,
   "metadata": {},
   "outputs": [],
   "source": [
    "ev_data = [['vehicle', 'range', 'price'], \n",
    "           ['Tesla Model 3 LR', '310', '49900'], \n",
    "           ['Hyundai Ioniq EV', '124', '30315'], \n",
    "           ['Chevy Bolt', '238', '36620']]"
   ]
  },
  {
   "cell_type": "code",
   "execution_count": 20,
   "metadata": {},
   "outputs": [
    {
     "name": "stdout",
     "output_type": "stream",
     "text": [
      "[['vehicle', 'range', 'price'], ['Tesla Model 3 LR', 310, '49900'], ['Hyundai Ioniq EV', 124, '30315'], ['Chevy Bolt', 238, '36620']]\n"
     ]
    }
   ],
   "source": [
    "for row in ev_data[1:]: # Loop through each row in ev_data starting with row 2 (index 1)\n",
    "    ev_range = row[1] # Each car's range is found in column 2 (index 1)\n",
    "    ev_range = int(ev_range) # Convert each range number from a string to an integer\n",
    "    row[1] = ev_range # Assign range, which is now an integer, back to index 1 in each row\n",
    "print(ev_data)"
   ]
  },
  {
   "cell_type": "code",
   "execution_count": 21,
   "metadata": {},
   "outputs": [
    {
     "name": "stdout",
     "output_type": "stream",
     "text": [
      "224.0\n"
     ]
    }
   ],
   "source": [
    "total_range = 0 # Create a variable to store the total range number\n",
    "\n",
    "for row in ev_data[1:]: # Loop through each row in ev_data starting with row 2 (index 1)\n",
    "    ev_range = row[1] # Each car's range is found in column 2 (index 1)\n",
    "    total_range += ev_range # Add this number to the number stored in total_range\n",
    "    \n",
    "number_of_cars = len(ev_data[1:]) # Calculate the length of our list, minus the header row\n",
    "print(total_range / number_of_cars) # Print the average range\n",
    "    "
   ]
  },
  {
   "cell_type": "code",
   "execution_count": 26,
   "metadata": {},
   "outputs": [
    {
     "name": "stdout",
     "output_type": "stream",
     "text": [
      "38945.0\n"
     ]
    }
   ],
   "source": [
    "total_price = 0                     # create a variable to store the total range number\n",
    "\n",
    "for row in ev_data[1:]:             # loop through each row in ev_data starting with row 2 (index 1)\n",
    "    price = row[2]                  # each car's price is found in column 3 (index 2)\n",
    "    price = int(price)              # convert each price number from a string to an integer\n",
    "    row[2] = price                  # assign price, which is now an integer, back to index 2 in each row\n",
    "    total_price += price            # add each car's price to total_price\n",
    "\n",
    "number_of_cars = len(ev_data[1:])   # calculate the length of our list, minus the header row\n",
    "\n",
    "print(total_price / number_of_cars) # print the average price"
   ]
  },
  {
   "cell_type": "code",
   "execution_count": 25,
   "metadata": {},
   "outputs": [
    {
     "name": "stdout",
     "output_type": "stream",
     "text": [
      "[['Tesla Model 3 LR', 310, 49900], ['Chevy Bolt', 238, 36620]]\n"
     ]
    }
   ],
   "source": [
    "long_range_car_list = []       # creating a new list to store our long range car data\n",
    "\n",
    "for row in ev_data[1:]:        # iterate through ev_data, skipping the header row\n",
    "    ev_range = row[1]          # assign the range number, which is at index 1 in the row, to the range variable\n",
    "    if ev_range > 200:         # append the whole row to long-range list if range is higher than 200\n",
    "        long_range_car_list.append(row)\n",
    "\n",
    "print(long_range_car_list)"
   ]
  },
  {
   "cell_type": "markdown",
   "metadata": {},
   "source": [
    "#### Other Useful Techniques: Range, Break, and Continue"
   ]
  },
  {
   "cell_type": "code",
   "execution_count": 27,
   "metadata": {},
   "outputs": [
    {
     "name": "stdout",
     "output_type": "stream",
     "text": [
      "5\n",
      "6\n",
      "7\n",
      "8\n"
     ]
    }
   ],
   "source": [
    "# Range\n",
    "for x in range(5,9):\n",
    "    print(x)"
   ]
  },
  {
   "cell_type": "code",
   "execution_count": 29,
   "metadata": {},
   "outputs": [
    {
     "name": "stdout",
     "output_type": "stream",
     "text": [
      "0\n",
      "1\n",
      "2\n"
     ]
    }
   ],
   "source": [
    "for x in range(3):\n",
    "    print(x)"
   ]
  },
  {
   "cell_type": "code",
   "execution_count": 30,
   "metadata": {},
   "outputs": [
    {
     "name": "stdout",
     "output_type": "stream",
     "text": [
      "0\n",
      "2\n",
      "4\n"
     ]
    }
   ],
   "source": [
    "for x in range(0,6,2):\n",
    "    print(x)"
   ]
  },
  {
   "cell_type": "code",
   "execution_count": 31,
   "metadata": {},
   "outputs": [
    {
     "name": "stdout",
     "output_type": "stream",
     "text": [
      "Lily\n",
      "Brad\n",
      "Fatimah\n"
     ]
    }
   ],
   "source": [
    "# Break\n",
    "for name in our_list:\n",
    "    if name == 'Zining':\n",
    "        break\n",
    "    print(name)"
   ]
  },
  {
   "cell_type": "code",
   "execution_count": 32,
   "metadata": {},
   "outputs": [
    {
     "name": "stdout",
     "output_type": "stream",
     "text": [
      "[['Tesla Model 3 LR', 310, 49900]]\n"
     ]
    }
   ],
   "source": [
    "long_range_car_list = [] # Create an empty car list again\n",
    "\n",
    "for row in ev_data[1:]:# Iterate through ev_data as before looking for cars with range > 200\n",
    "    ev_range = row[1]\n",
    "    if ev_range > 200:\n",
    "        long_range_car_list.append(row)\n",
    "    if 'Tesla' in row[0]: # but if 'Tesla' appears in the vehicle column, end the loop\n",
    "        break\n",
    "print(long_range_car_list)\n"
   ]
  },
  {
   "cell_type": "markdown",
   "metadata": {},
   "source": [
    "When Python sees continue while executing a for loop on a list, for example, it will stop at that point and move on to the next item on the list. Any code that comes below the continue will not be executed."
   ]
  },
  {
   "cell_type": "code",
   "execution_count": 33,
   "metadata": {},
   "outputs": [
    {
     "name": "stdout",
     "output_type": "stream",
     "text": [
      "Lily\n",
      "Fatimah\n",
      "Zining\n"
     ]
    }
   ],
   "source": [
    "# Continue\n",
    "for name in our_list:\n",
    "    if name == 'Brad':\n",
    "        continue\n",
    "    print(name)"
   ]
  },
  {
   "cell_type": "code",
   "execution_count": 34,
   "metadata": {},
   "outputs": [
    {
     "name": "stdout",
     "output_type": "stream",
     "text": [
      "[['Hyundai Ioniq EV', 124, 30315]]\n"
     ]
    }
   ],
   "source": [
    "short_range_car_list = []               # creating our empty short-range car list\n",
    "\n",
    "for row in ev_data[1:]:                 # iterate through ev_data as before\n",
    "    ev_range = row[1]\n",
    "    if ev_range > 200:                  #  if the car has a range of > 200\n",
    "        continue                        # end the loop here; do not execute the code below, continue to the next row\n",
    "    short_range_car_list.append(row)    # append the row to our short-range car list\n",
    "\n",
    "\n",
    "print(short_range_car_list)"
   ]
  }
 ],
 "metadata": {
  "kernelspec": {
   "display_name": "Python 3",
   "language": "python",
   "name": "python3"
  },
  "language_info": {
   "codemirror_mode": {
    "name": "ipython",
    "version": 3
   },
   "file_extension": ".py",
   "mimetype": "text/x-python",
   "name": "python",
   "nbconvert_exporter": "python",
   "pygments_lexer": "ipython3",
   "version": "3.7.3"
  }
 },
 "nbformat": 4,
 "nbformat_minor": 2
}
